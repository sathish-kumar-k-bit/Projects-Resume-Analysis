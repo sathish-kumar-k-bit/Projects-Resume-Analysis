{
 "cells": [
  {
   "cell_type": "markdown",
   "id": "19affd2f",
   "metadata": {},
   "source": [
    "# 1. Read resume"
   ]
  },
  {
   "cell_type": "code",
   "execution_count": 1,
   "id": "23b97155",
   "metadata": {},
   "outputs": [
    {
     "name": "stdout",
     "output_type": "stream",
     "text": [
      "Collecting PyPDF2\n",
      "  Using cached PyPDF2-1.26.0.tar.gz (77 kB)\n",
      "Building wheels for collected packages: PyPDF2\n",
      "  Building wheel for PyPDF2 (setup.py): started\n",
      "  Building wheel for PyPDF2 (setup.py): finished with status 'done'\n",
      "  Created wheel for PyPDF2: filename=PyPDF2-1.26.0-py3-none-any.whl size=61101 sha256=9320c16b7dc1baf8841dfdc6fba1a49df2a1ed99233aad300752ae2ab16c9bea\n",
      "  Stored in directory: c:\\users\\administrator\\appdata\\local\\pip\\cache\\wheels\\d9\\dc\\ec\\72da68331f30074b9950c1737c23cb8a67484e61498bc9713d\n",
      "Successfully built PyPDF2\n",
      "Installing collected packages: PyPDF2\n",
      "Successfully installed PyPDF2-1.26.0\n"
     ]
    }
   ],
   "source": [
    "! pip install PyPDF2"
   ]
  },
  {
   "cell_type": "code",
   "execution_count": 2,
   "id": "f99f1465",
   "metadata": {},
   "outputs": [],
   "source": [
    "import PyPDF2"
   ]
  },
  {
   "cell_type": "code",
   "execution_count": 4,
   "id": "925186e4",
   "metadata": {},
   "outputs": [],
   "source": [
    "resume_file = 'Kunal_Kolhe_Resume_V2.pdf'\n",
    "file = open(resume_file,'rb')"
   ]
  },
  {
   "cell_type": "code",
   "execution_count": 5,
   "id": "acc890dd",
   "metadata": {},
   "outputs": [
    {
     "data": {
      "text/plain": [
       "<_io.BufferedReader name='Kunal_Kolhe_Resume_V2.pdf'>"
      ]
     },
     "execution_count": 5,
     "metadata": {},
     "output_type": "execute_result"
    }
   ],
   "source": [
    "file"
   ]
  },
  {
   "cell_type": "code",
   "execution_count": 10,
   "id": "4da65703",
   "metadata": {},
   "outputs": [],
   "source": [
    "pdfreader = PyPDF2.PdfFileReader(file)\n",
    "pageHandle = pdfreader.getPage(0)\n",
    "text = pageHandle.extractText()\n",
    "text = text.replace('|', '')\n",
    "text = text.replace('\\n','')"
   ]
  },
  {
   "cell_type": "code",
   "execution_count": 11,
   "id": "e23fdd5a",
   "metadata": {
    "scrolled": true
   },
   "outputs": [
    {
     "data": {
      "text/plain": [
       "'  Kunal  Kolhe  kunalkolhe333@gmail.com 800 764 5603 Marunji, Hinjewadi Phase I, Pune  411057 linkedin.com/in/kunalkolhe3 github.com/kunalk3 Result oriented individual having statistical and analytical ability with 2.4 years of industry experience in software development, data science with data processing, data mining, data modelling, data visualizations, data insights, and machine learning techniques to meet business needs. Motivated to learn, grow, and excel my experience with challenging myself. SUMMARY WORK  EXPERIENCE Innodatatics Inc. - USA, Branch Office: Hydrabad Data Scientist Intern - (Nov. 2020  Feb. 2021)  Building predictive and decision models using machine learning algorithms for various business study cases with optimizations and evaluation techniques.  Analyzed large and imbalanced datasets by performing machine learning techniques to provide data insights, optimistic solutions and strategic directions for making data driven decisions.  Developed customized scripts for scraping the data from multiple websites.  Worked with text data with text mining techniques including text extraction, cleaning, pattern identifications, categorizations, and entity recognitions.  End-to-end deployment of ML and NLP solutions on web-based frameworks like heroku, flask, Django. KPIT Technologies - Rajiv Gandhi Infotech Park, Pune Software Engineer - (Jan. 2019  Jan. 2021)  Collaborated on all the stages of software development life cycle from the requirements gathering to the production releases as per client specifications.  Analysis of all data strategies, its constrains and deliver the reports for clients.  Closely worked with analyst and internal research teams to translate business requirements into technical solutions with attending client calls, project meetings and discussion with process consultant and architect.  HMI integration with development for Head Up Display cluster and infotainment system using C++, Python, Qt-QML with object-oriented approach. Software Trainee - (Oct. 2018  Dec. 2018)  Maintained highest levels of development practices including technical design, solution development, test documentation, issue identification and resolution.  Developed internal solutions with python scripts that automate the business processes and created image verification tool. EDUCATION C-DAC Kharghar  New Mumbai (2018 - 2018) PG-DAC in Computer Science (Aggregate 65.70 %)   BATU University  BATU, Lonere, Raigad (2013 - 2017) B-Tech. in Electrical Engineering (CGPA: 6.45) KEY  SKILLS Programing Languages - Python, R, Java, HTML, CSS, Qt-QML  Machine/ Deep Learning Libraries - Pandas, Numpy, Scikit-learn, Pycaret, Keras, TensorFlow, Statsmodels, BeautifulSoup Data Visualizations - Matplotlib, Seaborn, Plotly, Tableau Database Technologies/ Big Data Frameworks - MySQL, NoSQL, Spark, PySpark, Hadoop, MapReduce Natural Language Processing Libraries - NLTK, TextBlob, Spacy, FastText, Gensim Web Frameworks/ Cloud Services - Flask, Django, Streamlit, API IDE/ Platforms - Jupyter Notebook, PyCharm, Spider, Sublime Text, R Studio, Eclipse, Google Colab, Kaggle Kernel  CERTIFICATIONS  Certificate Program in Data Science using Machine Learning with R and Python (IBM)  Data Science Certification (ExcelR)  Text Analytics Certificate (IBM)  National workshop on Python with Data Science (DYPIMS, Pune)  Microsoft AI Classroom Series Program (Microsoft, India)  Technical DevFest event (GDG, India) PARTICIPATIONS '"
      ]
     },
     "execution_count": 11,
     "metadata": {},
     "output_type": "execute_result"
    }
   ],
   "source": [
    "text"
   ]
  },
  {
   "cell_type": "markdown",
   "id": "c21036da",
   "metadata": {},
   "source": [
    "# 2. Import and Authentivate to Servive"
   ]
  },
  {
   "cell_type": "code",
   "execution_count": 12,
   "id": "2d1658b3",
   "metadata": {},
   "outputs": [
    {
     "name": "stdout",
     "output_type": "stream",
     "text": [
      "Collecting ibm_Watson\n",
      "  Downloading ibm-watson-5.3.0.tar.gz (412 kB)\n",
      "  Installing build dependencies: started\n",
      "  Installing build dependencies: finished with status 'done'\n",
      "  Getting requirements to build wheel: started\n",
      "  Getting requirements to build wheel: finished with status 'done'\n",
      "    Preparing wheel metadata: started\n",
      "    Preparing wheel metadata: finished with status 'done'\n",
      "Collecting websocket-client==1.1.0\n",
      "  Downloading websocket_client-1.1.0-py2.py3-none-any.whl (68 kB)\n",
      "Collecting ibm-cloud-sdk-core==3.*,>=3.3.6\n",
      "  Downloading ibm-cloud-sdk-core-3.13.2.tar.gz (49 kB)\n",
      "Requirement already satisfied: python-dateutil>=2.5.3 in c:\\programdata\\anaconda3\\lib\\site-packages (from ibm_Watson) (2.8.2)\n",
      "Requirement already satisfied: requests<3.0,>=2.0 in c:\\programdata\\anaconda3\\lib\\site-packages (from ibm_Watson) (2.26.0)\n",
      "Requirement already satisfied: urllib3<2.0.0,>=1.26.0 in c:\\programdata\\anaconda3\\lib\\site-packages (from ibm-cloud-sdk-core==3.*,>=3.3.6->ibm_Watson) (1.26.7)\n",
      "Requirement already satisfied: PyJWT<3.0.0,>=2.0.1 in c:\\programdata\\anaconda3\\lib\\site-packages (from ibm-cloud-sdk-core==3.*,>=3.3.6->ibm_Watson) (2.1.0)\n",
      "Requirement already satisfied: six>=1.5 in c:\\programdata\\anaconda3\\lib\\site-packages (from python-dateutil>=2.5.3->ibm_Watson) (1.16.0)\n",
      "Requirement already satisfied: certifi>=2017.4.17 in c:\\programdata\\anaconda3\\lib\\site-packages (from requests<3.0,>=2.0->ibm_Watson) (2021.10.8)\n",
      "Requirement already satisfied: idna<4,>=2.5 in c:\\programdata\\anaconda3\\lib\\site-packages (from requests<3.0,>=2.0->ibm_Watson) (3.2)\n",
      "Requirement already satisfied: charset-normalizer~=2.0.0 in c:\\programdata\\anaconda3\\lib\\site-packages (from requests<3.0,>=2.0->ibm_Watson) (2.0.4)\n",
      "Building wheels for collected packages: ibm-Watson, ibm-cloud-sdk-core\n",
      "  Building wheel for ibm-Watson (PEP 517): started\n",
      "  Building wheel for ibm-Watson (PEP 517): finished with status 'done'\n",
      "  Created wheel for ibm-Watson: filename=ibm_watson-5.3.0-py3-none-any.whl size=408872 sha256=6334945475c5cf933c52b183245a62fade4bca19a155348f56938ae3f30395d8\n",
      "  Stored in directory: c:\\users\\administrator\\appdata\\local\\pip\\cache\\wheels\\6c\\74\\80\\01e29d27eb78c279ecab947531c65fb823da9f372de9b46cfa\n",
      "  Building wheel for ibm-cloud-sdk-core (setup.py): started\n",
      "  Building wheel for ibm-cloud-sdk-core (setup.py): finished with status 'done'\n",
      "  Created wheel for ibm-cloud-sdk-core: filename=ibm_cloud_sdk_core-3.13.2-py3-none-any.whl size=83241 sha256=c7eae06964c70a193118a8a5c0f67ec0b6bd2bfbb8ca548d05f31c4f83a20a26\n",
      "  Stored in directory: c:\\users\\administrator\\appdata\\local\\pip\\cache\\wheels\\46\\f7\\f2\\34e2e9f29faa6f68e1638108fb79b15fc6fd0c9a903bd9ab85\n",
      "Successfully built ibm-Watson ibm-cloud-sdk-core\n",
      "Installing collected packages: websocket-client, ibm-cloud-sdk-core, ibm-Watson\n",
      "Successfully installed ibm-Watson-5.3.0 ibm-cloud-sdk-core-3.13.2 websocket-client-1.1.0\n"
     ]
    }
   ],
   "source": [
    "!pip install ibm_Watson"
   ]
  },
  {
   "cell_type": "code",
   "execution_count": 13,
   "id": "ba58d9f4",
   "metadata": {},
   "outputs": [
    {
     "name": "stdout",
     "output_type": "stream",
     "text": [
      "Requirement already satisfied: ibm_watson in c:\\programdata\\anaconda3\\lib\\site-packages (5.3.0)\n",
      "Requirement already satisfied: python-dateutil>=2.5.3 in c:\\programdata\\anaconda3\\lib\\site-packages (from ibm_watson) (2.8.2)\n",
      "Requirement already satisfied: requests<3.0,>=2.0 in c:\\programdata\\anaconda3\\lib\\site-packages (from ibm_watson) (2.26.0)\n",
      "Requirement already satisfied: websocket-client==1.1.0 in c:\\programdata\\anaconda3\\lib\\site-packages (from ibm_watson) (1.1.0)\n",
      "Requirement already satisfied: ibm-cloud-sdk-core==3.*,>=3.3.6 in c:\\programdata\\anaconda3\\lib\\site-packages (from ibm_watson) (3.13.2)\n",
      "Requirement already satisfied: PyJWT<3.0.0,>=2.0.1 in c:\\programdata\\anaconda3\\lib\\site-packages (from ibm-cloud-sdk-core==3.*,>=3.3.6->ibm_watson) (2.1.0)\n",
      "Requirement already satisfied: urllib3<2.0.0,>=1.26.0 in c:\\programdata\\anaconda3\\lib\\site-packages (from ibm-cloud-sdk-core==3.*,>=3.3.6->ibm_watson) (1.26.7)\n",
      "Requirement already satisfied: six>=1.5 in c:\\programdata\\anaconda3\\lib\\site-packages (from python-dateutil>=2.5.3->ibm_watson) (1.16.0)\n",
      "Requirement already satisfied: idna<4,>=2.5 in c:\\programdata\\anaconda3\\lib\\site-packages (from requests<3.0,>=2.0->ibm_watson) (3.2)\n",
      "Requirement already satisfied: charset-normalizer~=2.0.0 in c:\\programdata\\anaconda3\\lib\\site-packages (from requests<3.0,>=2.0->ibm_watson) (2.0.4)\n",
      "Requirement already satisfied: certifi>=2017.4.17 in c:\\programdata\\anaconda3\\lib\\site-packages (from requests<3.0,>=2.0->ibm_watson) (2021.10.8)\n"
     ]
    }
   ],
   "source": [
    "!pip install ibm_watson"
   ]
  },
  {
   "cell_type": "code",
   "execution_count": 14,
   "id": "8168c60b",
   "metadata": {},
   "outputs": [],
   "source": [
    "from ibm_watson import PersonalityInsightsV3\n",
    "from ibm_cloud_sdk_core.authenticators import IAMAuthenticator"
   ]
  },
  {
   "cell_type": "code",
   "execution_count": null,
   "id": "7f198617",
   "metadata": {},
   "outputs": [],
   "source": [
    "apikey = ''\n",
    "url = ''\n"
   ]
  }
 ],
 "metadata": {
  "kernelspec": {
   "display_name": "Python 3 (ipykernel)",
   "language": "python",
   "name": "python3"
  },
  "language_info": {
   "codemirror_mode": {
    "name": "ipython",
    "version": 3
   },
   "file_extension": ".py",
   "mimetype": "text/x-python",
   "name": "python",
   "nbconvert_exporter": "python",
   "pygments_lexer": "ipython3",
   "version": "3.9.7"
  }
 },
 "nbformat": 4,
 "nbformat_minor": 5
}
